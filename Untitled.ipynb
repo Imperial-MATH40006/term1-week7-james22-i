{
 "cells": [
  {
   "cell_type": "code",
   "execution_count": null,
   "id": "94d4eb70-0e57-45cd-806c-e69a648cff5a",
   "metadata": {},
   "outputs": [],
   "source": [
    "from math import pi, factorial, sqrt\n",
    "\n",
    "total3 = 0.0\n",
    "list3 = []\n",
    "for n in range(21):\n",
    "    total3 += (sqrt(12)*((-1)**n))/((3**n)*(1+2*n))\n",
    "    list3.append(total3)"
   ]
  },
  {
   "cell_type": "code",
   "execution_count": null,
   "id": "c4431b8f-f0e4-44f7-9d8e-e092632735cf",
   "metadata": {},
   "outputs": [],
   "source": [
    "from math import pi, factorial, sqrt\n",
    "\n",
    "# summation (i)\n",
    "total1 = 0.0\n",
    "n1 = -1\n",
    "while abs(total1 - pi) > 1e-5:\n",
    "    total1 += (4*(-1**n))/(1+2*n)\n",
    "    print(total1)"
   ]
  },
  {
   "cell_type": "code",
   "execution_count": null,
   "id": "f78fa707-9785-4ed2-ad78-1c6c34d466fb",
   "metadata": {},
   "outputs": [],
   "source": [
    "print(1)"
   ]
  }
 ],
 "metadata": {
  "kernelspec": {
   "display_name": "Python 3 (ipykernel)",
   "language": "python",
   "name": "python3"
  },
  "language_info": {
   "codemirror_mode": {
    "name": "ipython",
    "version": 3
   },
   "file_extension": ".py",
   "mimetype": "text/x-python",
   "name": "python",
   "nbconvert_exporter": "python",
   "pygments_lexer": "ipython3",
   "version": "3.12.7"
  }
 },
 "nbformat": 4,
 "nbformat_minor": 5
}
